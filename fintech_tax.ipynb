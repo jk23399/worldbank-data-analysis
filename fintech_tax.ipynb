{
 "cells": [
  {
   "cell_type": "code",
   "execution_count": 11,
   "id": "398d1e84",
   "metadata": {},
   "outputs": [
    {
     "name": "stdout",
     "output_type": "stream",
     "text": [
      "✅ GlobalFindexDatabase2025.csv loaded successfully.\n",
      "\n",
      "✅ Digital Payment Usage data preprocessed successfully.\n",
      "\n",
      "--- Verifying the cleaned data ---\n",
      "First 5 rows of the cleaned data:\n"
     ]
    },
    {
     "name": "stderr",
     "output_type": "stream",
     "text": [
      "C:\\Users\\junok\\AppData\\Local\\Temp\\ipykernel_303596\\1764263553.py:7: DtypeWarning: Columns (4,5) have mixed types. Specify dtype option on import or set low_memory=False.\n",
      "  findex_df_raw = pd.read_csv('data/GlobalFindexDatabase2025.csv')\n"
     ]
    },
    {
     "data": {
      "text/html": [
       "<div>\n",
       "<style scoped>\n",
       "    .dataframe tbody tr th:only-of-type {\n",
       "        vertical-align: middle;\n",
       "    }\n",
       "\n",
       "    .dataframe tbody tr th {\n",
       "        vertical-align: top;\n",
       "    }\n",
       "\n",
       "    .dataframe thead th {\n",
       "        text-align: right;\n",
       "    }\n",
       "</style>\n",
       "<table border=\"1\" class=\"dataframe\">\n",
       "  <thead>\n",
       "    <tr style=\"text-align: right;\">\n",
       "      <th></th>\n",
       "      <th>Country Name</th>\n",
       "      <th>Country Code</th>\n",
       "      <th>Year</th>\n",
       "      <th>DigitalPaymentUsage</th>\n",
       "    </tr>\n",
       "  </thead>\n",
       "  <tbody>\n",
       "    <tr>\n",
       "      <th>431</th>\n",
       "      <td>Afghanistan</td>\n",
       "      <td>AFG</td>\n",
       "      <td>2021</td>\n",
       "      <td>0.000000</td>\n",
       "    </tr>\n",
       "    <tr>\n",
       "      <th>432</th>\n",
       "      <td>Albania</td>\n",
       "      <td>ALB</td>\n",
       "      <td>2021</td>\n",
       "      <td>4.258758</td>\n",
       "    </tr>\n",
       "    <tr>\n",
       "      <th>433</th>\n",
       "      <td>Algeria</td>\n",
       "      <td>DZA</td>\n",
       "      <td>2021</td>\n",
       "      <td>2.767699</td>\n",
       "    </tr>\n",
       "    <tr>\n",
       "      <th>434</th>\n",
       "      <td>Argentina</td>\n",
       "      <td>ARG</td>\n",
       "      <td>2021</td>\n",
       "      <td>25.090499</td>\n",
       "    </tr>\n",
       "    <tr>\n",
       "      <th>435</th>\n",
       "      <td>Armenia</td>\n",
       "      <td>ARM</td>\n",
       "      <td>2021</td>\n",
       "      <td>8.360455</td>\n",
       "    </tr>\n",
       "  </tbody>\n",
       "</table>\n",
       "</div>"
      ],
      "text/plain": [
       "    Country Name Country Code  Year  DigitalPaymentUsage\n",
       "431  Afghanistan          AFG  2021             0.000000\n",
       "432      Albania          ALB  2021             4.258758\n",
       "433      Algeria          DZA  2021             2.767699\n",
       "434    Argentina          ARG  2021            25.090499\n",
       "435      Armenia          ARM  2021             8.360455"
      ]
     },
     "metadata": {},
     "output_type": "display_data"
    },
    {
     "name": "stdout",
     "output_type": "stream",
     "text": [
      "\n",
      "Data types and non-null counts:\n",
      "<class 'pandas.core.frame.DataFrame'>\n",
      "Index: 1223 entries, 431 to 8565\n",
      "Data columns (total 4 columns):\n",
      " #   Column               Non-Null Count  Dtype  \n",
      "---  ------               --------------  -----  \n",
      " 0   Country Name         1223 non-null   object \n",
      " 1   Country Code         1223 non-null   object \n",
      " 2   Year                 1223 non-null   int64  \n",
      " 3   DigitalPaymentUsage  1223 non-null   float64\n",
      "dtypes: float64(1), int64(1), object(2)\n",
      "memory usage: 47.8+ KB\n"
     ]
    }
   ],
   "source": [
    "import pandas as pd\n",
    "\n",
    "# --- Step 1: Preprocessing ONLY the Global Findex Data ---\n",
    "\n",
    "# Load the raw Findex CSV file\n",
    "try:\n",
    "    findex_df_raw = pd.read_csv('data/GlobalFindexDatabase2025.csv')\n",
    "    print(\"✅ GlobalFindexDatabase2025.csv loaded successfully.\")\n",
    "except FileNotFoundError as e:\n",
    "    print(f\"❌ File not found. Please check the filename in the 'data' folder. Error: {e}\")\n",
    "\n",
    "# Define the actual column names we need to extract and their new, clean names\n",
    "findex_cols_to_use = {\n",
    "    'countrynewwb': 'Country Name',\n",
    "    'codewb': 'Country Code',\n",
    "    'year': 'Year',\n",
    "    'fin27a': 'DigitalPaymentUsage' # This is the actual column for 'Made or received digital payments'\n",
    "}\n",
    "\n",
    "# Create the new dataframe by selecting and renaming only the columns we need\n",
    "try:\n",
    "    digital_payment_df = findex_df_raw[list(findex_cols_to_use.keys())].copy()\n",
    "    digital_payment_df = digital_payment_df.rename(columns=findex_cols_to_use)\n",
    "\n",
    "    # Convert the value from a ratio (e.g., 0.33) to a percentage (e.g., 33.0)\n",
    "    digital_payment_df['DigitalPaymentUsage'] = digital_payment_df['DigitalPaymentUsage'] * 100\n",
    "\n",
    "    # Drop any rows that have missing values in our selected columns\n",
    "    digital_payment_df = digital_payment_df.dropna()\n",
    "\n",
    "    print(\"\\n✅ Digital Payment Usage data preprocessed successfully.\")\n",
    "    \n",
    "    # --- Verification Step ---\n",
    "    print(\"\\n--- Verifying the cleaned data ---\")\n",
    "    print(\"First 5 rows of the cleaned data:\")\n",
    "    display(digital_payment_df.head())\n",
    "    \n",
    "    print(\"\\nData types and non-null counts:\")\n",
    "    digital_payment_df.info()\n",
    "\n",
    "except KeyError as e:\n",
    "    print(f\"❌ A required column was not found in the file: {e}\")\n",
    "\n"
   ]
  }
 ],
 "metadata": {
  "kernelspec": {
   "display_name": "base",
   "language": "python",
   "name": "python3"
  },
  "language_info": {
   "codemirror_mode": {
    "name": "ipython",
    "version": 3
   },
   "file_extension": ".py",
   "mimetype": "text/x-python",
   "name": "python",
   "nbconvert_exporter": "python",
   "pygments_lexer": "ipython3",
   "version": "3.11.5"
  }
 },
 "nbformat": 4,
 "nbformat_minor": 5
}
